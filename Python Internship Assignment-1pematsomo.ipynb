{
 "cells": [
  {
   "cell_type": "markdown",
   "metadata": {},
   "source": [
    "___\n",
    "\n",
    "<a href='https://viqasys.com/wp-content/uploads/2021/07/ns1.png'><img src='https://viqasys.com/wp-content/uploads/2021/07/ns1.png'/></a>\n",
    "___\n",
    "<center><em>Content Copyright VIQASYS INNOVATIONS PVT LTD.</em></center>\n",
    "\n",
    "# Assignment 1"
   ]
  },
  {
   "cell_type": "markdown",
   "metadata": {},
   "source": [
    "# Question 1\n",
    "\n",
    "In the below elements, identify which of them are values or expressions. Values can be integers or strings, while expressions will be mathematical operators or combinations thereof.\n",
    "'hello', \n",
    "-87., ), o, lu, alu, ssion)'(Value))str\" (Value)"
   ]
  },
  {
   "cell_type": "markdown",
   "metadata": {},
   "source": [
    "'hello':value\n",
    "-87 :value\n"
   ]
  },
  {
   "cell_type": "markdown",
   "metadata": {},
   "source": [
    "## Question 2\n",
    "\n",
    "Explain the difference between a string and a variable.\n"
   ]
  },
  {
   "cell_type": "markdown",
   "metadata": {},
   "source": [
    "VARIABLE- In the object oriented programming, a variable is basically the particular area in computer which is reserved to storing values of a particular type.This means that when we create a variable we reserve some space in memory.Based on the data type of a variable, interpreter allocates memory and decides what can be store in the reserved memory, as a result we can assign differnt types of data to variables which are support by python are such as integer, float,string,list,tuple,dictionary.Hence \"string is the data type\"\n",
    "eg: x=5 #integer\n",
    "\n",
    "STRING- String(str)are data type which has sequence of character enclose within single(') or double (\" \") or triple('''  ''').String can contain certain letters, numbers and whitespace.\n",
    "eg: name=\"NextGen\"\n"
   ]
  },
  {
   "cell_type": "markdown",
   "metadata": {},
   "source": [
    "## Question 3\n",
    "Describe three different data types commonly used in programming"
   ]
  },
  {
   "cell_type": "markdown",
   "metadata": {},
   "source": [
    "Python generally provide a rivh set of built-in data types that are used in the different needs in the programming.Python include data types such as numeric types, sequence types, mapping types, boolean type and set types.\n",
    "\n",
    "1)Numeric Data Types:\n",
    "\n",
    "1.1 interger(int): Number include whole numbers without any decimal point.they can be positive ,negative or Zero.\n",
    "EXAMPLE: x=-10\n",
    "         y=78\n",
    "1.2 floating-point numbers(float):These numbers represents decimal numbers or numbers in the scientic notation.\n",
    "EXAMPLE: dia=9\n",
    "         volume=81\n",
    "1.3 complex number(complex):complex numbers represents numbers in the form a+bj;a and b are the real numbers and j represents the imaginary unit.\n",
    "EXAMPLE: z= 2+3j\n",
    "\n",
    "2)Sequence Data Types:\n",
    "\n",
    "2.1 string(str): strings represents sequences of charaters enclosed within single quotes,double or triple quotes.They are immutable, meaning they cannot be changed after creation.\n",
    "EXAMPLE:\n",
    "       colleage=\"BAHRA UNIVERSITY\"\n",
    "2.2 lists(list): lists represent ordered collections of items that can be different data types. They are mutable which means that we can change the value after the creation.\n",
    "EXAMPLE:\n",
    "      numbers=[1, 6, 9, 33]\n",
    "      names=[\"pema\", \"palmo\", \"kestsomo\",\"ngawang dronkyi\"]\n",
    "2.3 Tuples(tuple): tuples represent ordered collections of items similar to lists, but they are immutable, meaning their elements cannot changed after creation and elements are enclosed in the parenthesis.\n",
    "EXAMPLE: \n",
    "       points=(68, 90, 56)\n",
    "       vowels=(a, e, i, o, u)\n",
    "3)Mapping Data types:\n",
    "\n",
    "3.1 dictionary(dict): dictionaries represents collections of key value paris where each key is associated with a value.They are unordered and mutable.\n",
    "EXAMPLE: \n",
    "       student={'name':'PEMA','Branch':'btech CSE'}\n",
    "3.2 boolean(bool): Boolean represents truth values and are used in logical operations and control flow statements.It can have only two values these are either True(1) or False(0).\n",
    "EXAMPLE:\n",
    "       is_sunny= True\n",
    "4)set data types:\n",
    "\n",
    "4.1 Set(set):sets represent unordered collections of unique elements, they are mutable but do not allow duplicate elements.\n",
    "Example:\n",
    "      number={3, 7, 13, 56, 89}\n",
    "4.2 Forzensets(forzenset): Forzensets are similar to sets but are immutable, meaning their elements cannot be changed after creations\n",
    "EXAMPLE:\n",
    "      forzen_set=frozenset({3, 6, 9})\n",
    "\n"
   ]
  },
  {
   "cell_type": "markdown",
   "metadata": {},
   "source": [
    "## Question 4\n",
    "What is an expression made up of? What is the general purpose of expressions?\n"
   ]
  },
  {
   "cell_type": "markdown",
   "metadata": {},
   "source": [
    "In python, an experssion is a combination of values, variables and operators that evaluates to a single value.Experssion in python can be used in a variety of ways such as in assignment statements, function arguments and conditional statement. EXAMPLE: result=3+5**2 { here 3+5**2 is experssion and value result gives value for this expression."
   ]
  },
  {
   "cell_type": "markdown",
   "metadata": {},
   "source": [
    "## Question 5\n",
    "\n",
    "Explain the difference between an expression and a statement, using examples if necessary."
   ]
  },
  {
   "cell_type": "markdown",
   "metadata": {},
   "source": [
    "EXPRESSION: An experssion is a combination of values, variables and operators that can be evaluated to produce a result\n",
    "EXAMPLE if value == True:\n",
    "          print(\"correct!!!\")\n",
    "   else\n",
    "          print(\"invalid input\")\n",
    "a=50\n",
    "print(a)\n",
    "\n",
    "STATEMENT: A statement is a complete line of code that performs a specific action. Unlike expressions statements do not necessarily return a value.\n",
    "    result=\"PASS\"\n",
    "\n"
   ]
  },
  {
   "cell_type": "markdown",
   "metadata": {},
   "source": [
    "## Question 6\n",
    "After running the following code, what does the variable \"bacon\" contain?\n",
    "\n",
    "bacon = 22 <br>\n",
    "\n",
    "bacon + 1"
   ]
  },
  {
   "cell_type": "code",
   "execution_count": 3,
   "metadata": {},
   "outputs": [
    {
     "name": "stdout",
     "output_type": "stream",
     "text": [
      "23\n"
     ]
    },
    {
     "data": {
      "text/plain": [
       "int"
      ]
     },
     "execution_count": 3,
     "metadata": {},
     "output_type": "execute_result"
    }
   ],
   "source": [
    "bacon = 22\n",
    "bacon += 1\n",
    "print(bacon)\n",
    "type(bacon)\n"
   ]
  },
  {
   "cell_type": "markdown",
   "metadata": {},
   "source": [
    "variable bacon contain value 23 and it's in int type"
   ]
  },
  {
   "cell_type": "markdown",
   "metadata": {},
   "source": [
    "## Question 7\n",
    "Determine the values of the following two terms:<br>\n",
    "'spam' + 'spamspam'<br>\n",
    "'spam' * 3\n",
    "\n"
   ]
  },
  {
   "cell_type": "code",
   "execution_count": 8,
   "metadata": {},
   "outputs": [
    {
     "name": "stdout",
     "output_type": "stream",
     "text": [
      "spamspamspam\n"
     ]
    }
   ],
   "source": [
    "'spam'+'spamspam'"
   ]
  },
  {
   "cell_type": "code",
   "execution_count": 11,
   "metadata": {},
   "outputs": [
    {
     "data": {
      "text/plain": [
       "'spamspamspam'"
      ]
     },
     "execution_count": 11,
     "metadata": {},
     "output_type": "execute_result"
    }
   ],
   "source": [
    "'spam' * 3"
   ]
  },
  {
   "cell_type": "markdown",
   "metadata": {},
   "source": [
    "In the first code we are concatenating the two string where value is spamspamspam whereas the in the second we are multiping the spam thrice where value is 'spamspamspam'in the stirng"
   ]
  },
  {
   "cell_type": "markdown",
   "metadata": {},
   "source": [
    "## Question 8\n",
    "\n",
    "Why is \"eggs\" a valid variable name while \"100\" is invalid?"
   ]
  },
  {
   "cell_type": "markdown",
   "metadata": {},
   "source": [
    "eggs is valid and 100 is invalid is because variable name cannot created or begin with a number"
   ]
  },
  {
   "cell_type": "markdown",
   "metadata": {},
   "source": [
    "## Question 9\n",
    "\n",
    "List three functions that can be used to obtain the integer, floating-point number, or string version of a value."
   ]
  },
  {
   "cell_type": "markdown",
   "metadata": {},
   "source": [
    "Function used to obtain  the respective value used :\n",
    "integer = int()\n",
    "floating-point = float()\n",
    "string= str()\n",
    "\n"
   ]
  },
  {
   "cell_type": "markdown",
   "metadata": {},
   "source": [
    "## Question 10 \n",
    "Explain why the following expression causes an error and suggest how to fix it:<br>\n",
    "'I have eaten ' + 99 + ' burritos.'\n",
    "\n"
   ]
  },
  {
   "cell_type": "markdown",
   "metadata": {},
   "source": [
    "This expression causes an error because in this line 'I have eaten' and 'burritos' are string ,while 99 is treated as integer.In order to fix the error and print without error, 99 needs (\"\")quatation around it to treat it as string"
   ]
  },
  {
   "cell_type": "markdown",
   "metadata": {},
   "source": [
    "## Question 11\n",
    "Write a Python program to calculate the sum of two numbers and print the result.\n",
    "gative, or zero."
   ]
  },
  {
   "cell_type": "code",
   "execution_count": 14,
   "metadata": {},
   "outputs": [
    {
     "name": "stdin",
     "output_type": "stream",
     "text": [
      "Enter the first number 9\n",
      "Enter the second number -9\n"
     ]
    },
    {
     "name": "stdout",
     "output_type": "stream",
     "text": [
      "sum of two given number is 0.0\n",
      "Value is 0\n"
     ]
    }
   ],
   "source": [
    "#program for addition of two numbers\n",
    "\n",
    "num1 = float(input(\"Enter the first number\"))\n",
    "num2 = float(input(\"Enter the second number\"))\n",
    "sum = num1+num2\n",
    "print(\"sum of two given number is\",sum)\n",
    "if sum < 0:\n",
    "    print(\"value is in negative\")\n",
    "elif sum > 0:\n",
    "    print (\"value is in positive\")\n",
    "else:\n",
    "    print (\"Value is 0\")"
   ]
  },
  {
   "cell_type": "markdown",
   "metadata": {},
   "source": [
    "## Question 12\n",
    "Create a Python program that takes the user's name as input and prints a greeting message.\n",
    "\n"
   ]
  },
  {
   "cell_type": "code",
   "execution_count": 17,
   "metadata": {},
   "outputs": [
    {
     "name": "stdin",
     "output_type": "stream",
     "text": [
      "Enter the user name PEMA TSOMO\n"
     ]
    },
    {
     "name": "stdout",
     "output_type": "stream",
     "text": [
      "Hello PEMA TSOMO Welcome to jupyter << Enter to contionue\n"
     ]
    }
   ],
   "source": [
    "name = input(\"Enter the user name\")\n",
    "print(\"Hello\", name ,\"Welcome to jupyter << Enter to contionue\")\n"
   ]
  },
  {
   "cell_type": "markdown",
   "metadata": {},
   "source": [
    "## Question 13\n",
    "Write a Python program to calculate the area of a rectangle given its length and width. (Assume length and width are provided as inputs.)\n",
    "\n"
   ]
  },
  {
   "cell_type": "code",
   "execution_count": 18,
   "metadata": {},
   "outputs": [
    {
     "name": "stdin",
     "output_type": "stream",
     "text": [
      "Enter the length of the reactangle 4\n",
      "Enter the breath of the reactangle 4\n"
     ]
    },
    {
     "name": "stdout",
     "output_type": "stream",
     "text": [
      "Area of the reactangle is 16.0\n"
     ]
    }
   ],
   "source": [
    "#programe to fine the area of the rectangle\n",
    "l=float(input(\"Enter the length of the reactangle\"))\n",
    "b=float(input(\"Enter the breath of the reactangle\"))\n",
    "\n",
    "#area of reactangle\n",
    "a=l*b\n",
    "print(\"Area of the reactangle is\",a)"
   ]
  },
  {
   "cell_type": "markdown",
   "metadata": {},
   "source": [
    "## Question 14\n",
    "Create a Python program that asks the user for their age and prints out a message saying whether they are a child, teenager, or adult based on their age.\n",
    "\n"
   ]
  },
  {
   "cell_type": "code",
   "execution_count": 23,
   "metadata": {},
   "outputs": [
    {
     "name": "stdin",
     "output_type": "stream",
     "text": [
      "Please enter your correct age 20\n"
     ]
    },
    {
     "name": "stdout",
     "output_type": "stream",
     "text": [
      "Age falls in the ADULT stage\n"
     ]
    }
   ],
   "source": [
    "#python program to check user stage of adulthood using their age\n",
    "age = int(input(\"Please enter your correct age\"))\n",
    "\n",
    "if age <= 12:\n",
    "    print(\"Age falls in the CHILD stage\")\n",
    "elif age >=13 and age <=17:\n",
    "    print(\"Age falls in the TEENAGER stage\")\n",
    "else:\n",
    "    print(\"Age falls in the ADULT stage\")\n"
   ]
  },
  {
   "cell_type": "markdown",
   "metadata": {},
   "source": [
    "## Question 15\n",
    "Write a Python program to convert temperature from Celsius to Fahrenheit. (Assume Celsius temperature is provided as input.)\n",
    "\n"
   ]
  },
  {
   "cell_type": "code",
   "execution_count": 26,
   "metadata": {},
   "outputs": [
    {
     "name": "stdout",
     "output_type": "stream",
     "text": [
      "113.0\n"
     ]
    }
   ],
   "source": [
    "#program to convert temperatur given in celsius into Fahrenheit\n",
    "c = 45   # c stands for Celsuis and f stands for fahrenheit\n",
    "f = (c * 1.8) +32\n",
    "\n",
    "print(f)"
   ]
  },
  {
   "cell_type": "markdown",
   "metadata": {},
   "source": [
    "## Question 16\n",
    "Create a Python program that takes the radius of a circle as input and calculates its area. (Assume the value of pi is 3.14.)\n",
    "\n"
   ]
  },
  {
   "cell_type": "code",
   "execution_count": 32,
   "metadata": {},
   "outputs": [
    {
     "name": "stdin",
     "output_type": "stream",
     "text": [
      "ENTER THE RADIUS OF THE CIRCLE 1\n"
     ]
    },
    {
     "name": "stdout",
     "output_type": "stream",
     "text": [
      "The area of the circle is 3.14\n"
     ]
    }
   ],
   "source": [
    "#program to find the are of a circle\n",
    "r = float(input(\"ENTER THE RADIUS OF THE CIRCLE\"))\n",
    "acircle = 3.14 * r**2\n",
    "\n",
    "print(\"The area of the circle is\",acircle)"
   ]
  },
  {
   "cell_type": "markdown",
   "metadata": {},
   "source": [
    "## Question 17\n",
    "Write a Python program to find the maximum of two numbers entered by the user.\n",
    "\n"
   ]
  },
  {
   "cell_type": "code",
   "execution_count": 38,
   "metadata": {},
   "outputs": [
    {
     "name": "stdin",
     "output_type": "stream",
     "text": [
      "Enter a number 19089\n",
      "Enter a number 79796\n"
     ]
    },
    {
     "name": "stdout",
     "output_type": "stream",
     "text": [
      "79796.0 is greater than 19089.0\n",
      "79796.0 is maximum number\n"
     ]
    }
   ],
   "source": [
    "num1 = float(input(\"Enter a number\"))\n",
    "num2 = float(input(\"Enter a number\"))\n",
    "\n",
    "if num1 > num2:\n",
    "    print(num1,\"is greater than\",num2)\n",
    "    print(num1,\"is maximum number\")\n",
    "elif num2 >num1:\n",
    "    print(num2,\"is greater than\",num1)\n",
    "    print(num2,\"is maximum number\")\n",
    "else:\n",
    "    print(\"given numbers are equal\")"
   ]
  },
  {
   "cell_type": "markdown",
   "metadata": {},
   "source": [
    "## Question 18\n",
    "Create a Python program that asks the user to enter two numbers and prints out their product.\n",
    "\n"
   ]
  },
  {
   "cell_type": "code",
   "execution_count": 40,
   "metadata": {},
   "outputs": [
    {
     "name": "stdin",
     "output_type": "stream",
     "text": [
      "Enter any number 8.9\n",
      "Enter any number 1.1\n"
     ]
    },
    {
     "name": "stdout",
     "output_type": "stream",
     "text": [
      "Product of two given number is 9.790000000000001\n"
     ]
    }
   ],
   "source": [
    "#program to print the product of two given input\n",
    "num1= float(input(\"Enter any number\"))\n",
    "num2 = float(input(\"Enter any number\"))\n",
    "\n",
    "product = num1*num2\n",
    "print(\"Product of two given number is\",product)"
   ]
  },
  {
   "cell_type": "markdown",
   "metadata": {},
   "source": [
    "## Question 19\n",
    "Write a Python program that prompts the user to enter a number and then prints whether the number is positive, negative, or zero."
   ]
  },
  {
   "cell_type": "code",
   "execution_count": 43,
   "metadata": {},
   "outputs": [
    {
     "name": "stdin",
     "output_type": "stream",
     "text": [
      "Enter any integer number -9\n"
     ]
    },
    {
     "name": "stdout",
     "output_type": "stream",
     "text": [
      "enter number is negative\n"
     ]
    }
   ],
   "source": [
    "num = int(input(\"Enter any integer number\"))\n",
    "\n",
    "if num > 0:\n",
    "    print(\"enter number is positive\")\n",
    "elif num <0:\n",
    "    print(\"enter number is negative\")\n",
    "else:\n",
    "    print(\"enter number is ZERO\")\n"
   ]
  },
  {
   "cell_type": "code",
   "execution_count": null,
   "metadata": {},
   "outputs": [],
   "source": []
  }
 ],
 "metadata": {
  "anaconda-cloud": {},
  "kernelspec": {
   "display_name": "Python 3 (ipykernel)",
   "language": "python",
   "name": "python3"
  },
  "language_info": {
   "codemirror_mode": {
    "name": "ipython",
    "version": 3
   },
   "file_extension": ".py",
   "mimetype": "text/x-python",
   "name": "python",
   "nbconvert_exporter": "python",
   "pygments_lexer": "ipython3",
   "version": "3.11.7"
  }
 },
 "nbformat": 4,
 "nbformat_minor": 4
}
